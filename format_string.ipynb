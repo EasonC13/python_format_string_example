{
 "cells": [
  {
   "cell_type": "code",
   "execution_count": 1,
   "metadata": {
    "ExecuteTime": {
     "end_time": "2021-07-24T00:00:05.747542Z",
     "start_time": "2021-07-24T00:00:05.739324Z"
    }
   },
   "outputs": [
    {
     "data": {
      "text/plain": [
       "'3.8.3 (default, Jul  2 2020, 16:21:59) \\n[GCC 7.3.0]'"
      ]
     },
     "execution_count": 1,
     "metadata": {},
     "output_type": "execute_result"
    }
   ],
   "source": [
    "import sys\n",
    "sys.version"
   ]
  },
  {
   "cell_type": "code",
   "execution_count": 1,
   "metadata": {
    "ExecuteTime": {
     "end_time": "2021-06-22T01:29:08.688780Z",
     "start_time": "2021-06-22T01:29:08.684738Z"
    }
   },
   "outputs": [],
   "source": [
    "val = \"Hello\""
   ]
  },
  {
   "cell_type": "code",
   "execution_count": 11,
   "metadata": {
    "ExecuteTime": {
     "end_time": "2021-06-22T01:30:39.512352Z",
     "start_time": "2021-06-22T01:30:39.504266Z"
    }
   },
   "outputs": [
    {
     "name": "stdout",
     "output_type": "stream",
     "text": [
      "the value is val='Hello'\n"
     ]
    }
   ],
   "source": [
    "print(f\"the value is {val=}\")"
   ]
  },
  {
   "cell_type": "code",
   "execution_count": 12,
   "metadata": {
    "ExecuteTime": {
     "end_time": "2021-06-22T01:30:39.754154Z",
     "start_time": "2021-06-22T01:30:39.746633Z"
    }
   },
   "outputs": [
    {
     "name": "stdout",
     "output_type": "stream",
     "text": [
      "the value is val = 'Hello'\n"
     ]
    }
   ],
   "source": [
    "print(f\"the value is {val = }\")"
   ]
  },
  {
   "cell_type": "code",
   "execution_count": 13,
   "metadata": {
    "ExecuteTime": {
     "end_time": "2021-06-22T01:30:41.475611Z",
     "start_time": "2021-06-22T01:30:41.469987Z"
    }
   },
   "outputs": [],
   "source": [
    "num_val = 123"
   ]
  },
  {
   "cell_type": "code",
   "execution_count": 15,
   "metadata": {
    "ExecuteTime": {
     "end_time": "2021-06-22T01:31:03.359779Z",
     "start_time": "2021-06-22T01:31:03.354591Z"
    }
   },
   "outputs": [
    {
     "name": "stdout",
     "output_type": "stream",
     "text": [
      "the value is num_val%2 = 1\n"
     ]
    }
   ],
   "source": [
    "print(f\"the value is {num_val%2 = }\")"
   ]
  },
  {
   "cell_type": "code",
   "execution_count": 22,
   "metadata": {
    "ExecuteTime": {
     "end_time": "2021-06-22T01:32:05.839019Z",
     "start_time": "2021-06-22T01:32:05.833215Z"
    }
   },
   "outputs": [],
   "source": [
    "val = \"hello😂\""
   ]
  },
  {
   "cell_type": "code",
   "execution_count": 24,
   "metadata": {
    "ExecuteTime": {
     "end_time": "2021-06-22T01:32:10.881581Z",
     "start_time": "2021-06-22T01:32:10.874457Z"
    }
   },
   "outputs": [
    {
     "name": "stdout",
     "output_type": "stream",
     "text": [
      "the value is hello😂\n"
     ]
    }
   ],
   "source": [
    "print(f\"the value is {val}\")"
   ]
  },
  {
   "cell_type": "code",
   "execution_count": 23,
   "metadata": {
    "ExecuteTime": {
     "end_time": "2021-06-22T01:32:06.093763Z",
     "start_time": "2021-06-22T01:32:06.086804Z"
    }
   },
   "outputs": [
    {
     "name": "stdout",
     "output_type": "stream",
     "text": [
      "the value is 'hello\\U0001f602'\n"
     ]
    }
   ],
   "source": [
    "print(f\"the value is {val!a}\")"
   ]
  },
  {
   "cell_type": "code",
   "execution_count": 25,
   "metadata": {
    "ExecuteTime": {
     "end_time": "2021-06-22T01:32:12.799113Z",
     "start_time": "2021-06-22T01:32:12.791676Z"
    }
   },
   "outputs": [
    {
     "name": "stdout",
     "output_type": "stream",
     "text": [
      "the value is 'hello😂'\n"
     ]
    }
   ],
   "source": [
    "print(f\"the value is {val!r}\")"
   ]
  },
  {
   "cell_type": "code",
   "execution_count": 27,
   "metadata": {
    "ExecuteTime": {
     "end_time": "2021-06-22T01:32:34.755098Z",
     "start_time": "2021-06-22T01:32:34.751330Z"
    }
   },
   "outputs": [
    {
     "name": "stdout",
     "output_type": "stream",
     "text": [
      "the value is 'hello😂'\n"
     ]
    }
   ],
   "source": [
    "print(f\"the value is {repr(val)}\")"
   ]
  },
  {
   "cell_type": "code",
   "execution_count": 28,
   "metadata": {
    "ExecuteTime": {
     "end_time": "2021-06-22T01:35:30.847535Z",
     "start_time": "2021-06-22T01:35:30.842112Z"
    }
   },
   "outputs": [],
   "source": [
    "num_val = 123.4567"
   ]
  },
  {
   "cell_type": "code",
   "execution_count": 29,
   "metadata": {
    "ExecuteTime": {
     "end_time": "2021-06-22T01:35:38.211266Z",
     "start_time": "2021-06-22T01:35:38.205542Z"
    }
   },
   "outputs": [],
   "source": [
    "import datetime"
   ]
  },
  {
   "cell_type": "code",
   "execution_count": 30,
   "metadata": {
    "ExecuteTime": {
     "end_time": "2021-06-22T01:35:44.631979Z",
     "start_time": "2021-06-22T01:35:44.625898Z"
    }
   },
   "outputs": [],
   "source": [
    "now = datetime.datetime.now()"
   ]
  },
  {
   "cell_type": "code",
   "execution_count": 32,
   "metadata": {
    "ExecuteTime": {
     "end_time": "2021-06-22T01:36:09.580335Z",
     "start_time": "2021-06-22T01:36:09.572860Z"
    }
   },
   "outputs": [
    {
     "name": "stdout",
     "output_type": "stream",
     "text": [
      "2021-06-22 09:35:44.628499\n"
     ]
    }
   ],
   "source": [
    "print(f\"{now}\")"
   ]
  },
  {
   "cell_type": "code",
   "execution_count": 35,
   "metadata": {
    "ExecuteTime": {
     "end_time": "2021-06-22T01:36:20.183942Z",
     "start_time": "2021-06-22T01:36:20.176416Z"
    }
   },
   "outputs": [
    {
     "name": "stdout",
     "output_type": "stream",
     "text": [
      "2021-22-22\n"
     ]
    }
   ],
   "source": [
    "print(f\"{now:%Y-%d-%d}\")"
   ]
  },
  {
   "cell_type": "code",
   "execution_count": 36,
   "metadata": {
    "ExecuteTime": {
     "end_time": "2021-06-22T01:36:20.510932Z",
     "start_time": "2021-06-22T01:36:20.505965Z"
    }
   },
   "outputs": [
    {
     "name": "stdout",
     "output_type": "stream",
     "text": [
      "now=2021-22-22\n"
     ]
    }
   ],
   "source": [
    "print(f\"{now=:%Y-%d-%d}\")"
   ]
  },
  {
   "cell_type": "code",
   "execution_count": 38,
   "metadata": {
    "ExecuteTime": {
     "end_time": "2021-06-22T01:36:43.286134Z",
     "start_time": "2021-06-22T01:36:43.278759Z"
    }
   },
   "outputs": [
    {
     "name": "stdout",
     "output_type": "stream",
     "text": [
      "123.46\n"
     ]
    }
   ],
   "source": [
    "print(f\"{num_val:.2f}\")"
   ]
  },
  {
   "cell_type": "code",
   "execution_count": 39,
   "metadata": {
    "ExecuteTime": {
     "end_time": "2021-06-22T01:36:47.530329Z",
     "start_time": "2021-06-22T01:36:47.523623Z"
    }
   },
   "outputs": [
    {
     "name": "stdout",
     "output_type": "stream",
     "text": [
      "num_val=123.46\n"
     ]
    }
   ],
   "source": [
    "print(f\"{num_val=:.2f}\")"
   ]
  },
  {
   "cell_type": "code",
   "execution_count": 54,
   "metadata": {
    "ExecuteTime": {
     "end_time": "2021-06-22T01:38:55.198241Z",
     "start_time": "2021-06-22T01:38:55.192538Z"
    }
   },
   "outputs": [],
   "source": [
    "class MyClass:\n",
    "    def __init__(self):\n",
    "        return None\n",
    "    def __format__(self, param):\n",
    "        print(f\"Recieve {param=!r}\")\n",
    "        return \"AAA\""
   ]
  },
  {
   "cell_type": "code",
   "execution_count": 55,
   "metadata": {
    "ExecuteTime": {
     "end_time": "2021-06-22T01:38:55.345059Z",
     "start_time": "2021-06-22T01:38:55.340009Z"
    }
   },
   "outputs": [
    {
     "name": "stdout",
     "output_type": "stream",
     "text": [
      "Recieve param=''\n",
      "AAA\n"
     ]
    }
   ],
   "source": [
    "print(f\"{MyClass()}\")"
   ]
  },
  {
   "cell_type": "code",
   "execution_count": 56,
   "metadata": {
    "ExecuteTime": {
     "end_time": "2021-06-22T01:38:55.602339Z",
     "start_time": "2021-06-22T01:38:55.594505Z"
    }
   },
   "outputs": [
    {
     "name": "stdout",
     "output_type": "stream",
     "text": [
      "Recieve param=' blah blah %%MYFORMAT%%'\n",
      "AAA\n"
     ]
    }
   ],
   "source": [
    "print(f\"{MyClass(): blah blah %%MYFORMAT%%}\")"
   ]
  },
  {
   "cell_type": "code",
   "execution_count": null,
   "metadata": {},
   "outputs": [],
   "source": []
  }
 ],
 "metadata": {
  "kernelspec": {
   "display_name": "Python 3",
   "language": "python",
   "name": "python3"
  },
  "language_info": {
   "codemirror_mode": {
    "name": "ipython",
    "version": 3
   },
   "file_extension": ".py",
   "mimetype": "text/x-python",
   "name": "python",
   "nbconvert_exporter": "python",
   "pygments_lexer": "ipython3",
   "version": "3.8.3"
  }
 },
 "nbformat": 4,
 "nbformat_minor": 4
}
